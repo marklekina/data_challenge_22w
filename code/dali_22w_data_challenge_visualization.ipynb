{
 "cells": [
  {
   "cell_type": "markdown",
   "id": "b8fdf019",
   "metadata": {},
   "source": [
    "## 1. Imports"
   ]
  },
  {
   "cell_type": "code",
   "execution_count": 1,
   "id": "4f447c5f",
   "metadata": {},
   "outputs": [],
   "source": [
    "# import packages\n",
    "import pandas as pd\n",
    "import numpy as np\n",
    "import matplotlib.pyplot as plt"
   ]
  },
  {
   "cell_type": "markdown",
   "id": "8e700ed4",
   "metadata": {},
   "source": [
    "## 2. Load data"
   ]
  },
  {
   "cell_type": "code",
   "execution_count": 2,
   "id": "95dc4196",
   "metadata": {},
   "outputs": [
    {
     "name": "stdout",
     "output_type": "stream",
     "text": [
      "(11101, 55)\n",
      "<class 'pandas.core.frame.DataFrame'>\n",
      "RangeIndex: 11101 entries, 0 to 11100\n",
      "Data columns (total 55 columns):\n",
      " #   Column              Non-Null Count  Dtype  \n",
      "---  ------              --------------  -----  \n",
      " 0   id                  11101 non-null  int64  \n",
      " 1   country             11101 non-null  object \n",
      " 2   c3                  11101 non-null  object \n",
      " 3   c2                  11093 non-null  object \n",
      " 4   year                11101 non-null  int64  \n",
      " 5   gini_reported       11054 non-null  float64\n",
      " 6   q1                  7097 non-null   float64\n",
      " 7   q2                  6933 non-null   float64\n",
      " 8   q3                  6959 non-null   float64\n",
      " 9   q4                  6965 non-null   float64\n",
      " 10  q5                  7098 non-null   float64\n",
      " 11  d1                  6264 non-null   float64\n",
      " 12  d2                  6258 non-null   float64\n",
      " 13  d3                  6258 non-null   float64\n",
      " 14  d4                  6258 non-null   float64\n",
      " 15  d5                  6278 non-null   float64\n",
      " 16  d6                  6283 non-null   float64\n",
      " 17  d7                  6289 non-null   float64\n",
      " 18  d8                  6286 non-null   float64\n",
      " 19  d9                  6300 non-null   float64\n",
      " 20  d10                 6338 non-null   float64\n",
      " 21  bottom5             1595 non-null   float64\n",
      " 22  top5                2179 non-null   float64\n",
      " 23  resource            11100 non-null  object \n",
      " 24  resource_detailed   11101 non-null  object \n",
      " 25  scale               10596 non-null  object \n",
      " 26  scale_detailed      10596 non-null  object \n",
      " 27  sharing_unit        10599 non-null  object \n",
      " 28  reference_unit      11066 non-null  object \n",
      " 29  areacovr            11101 non-null  object \n",
      " 30  areacovr_detailed   11101 non-null  object \n",
      " 31  popcovr             11101 non-null  object \n",
      " 32  popcovr_detailed    11101 non-null  object \n",
      " 33  region_un           11101 non-null  object \n",
      " 34  region_un_sub       11101 non-null  object \n",
      " 35  region_wb           11101 non-null  object \n",
      " 36  eu                  11101 non-null  object \n",
      " 37  oecd                11101 non-null  object \n",
      " 38  incomegroup         11101 non-null  object \n",
      " 39  mean                5786 non-null   float64\n",
      " 40  median              4520 non-null   float64\n",
      " 41  currency            6712 non-null   object \n",
      " 42  reference_period    6776 non-null   object \n",
      " 43  exchangerate        10135 non-null  float64\n",
      " 44  mean_usd            1654 non-null   float64\n",
      " 45  median_usd          1650 non-null   float64\n",
      " 46  gdp_ppp_pc_usd2011  7692 non-null   float64\n",
      " 47  population          11043 non-null  float64\n",
      " 48  revision            6644 non-null   object \n",
      " 49  quality             11101 non-null  object \n",
      " 50  quality_score       11101 non-null  int64  \n",
      " 51  source              11101 non-null  object \n",
      " 52  source_detailed     11101 non-null  object \n",
      " 53  source_comments     5539 non-null   object \n",
      " 54  survey              4071 non-null   object \n",
      "dtypes: float64(25), int64(3), object(27)\n",
      "memory usage: 4.7+ MB\n",
      "None\n"
     ]
    }
   ],
   "source": [
    "# read csv file\n",
    "wiid = pd.read_csv(\"../data/wiid.csv\")\n",
    "\n",
    "# print shape, info\n",
    "print(wiid.shape)\n",
    "print(wiid.info())"
   ]
  },
  {
   "cell_type": "markdown",
   "id": "bd5a8e7b",
   "metadata": {},
   "source": [
    "## 3. Subset dataframe to columns of interest"
   ]
  },
  {
   "cell_type": "code",
   "execution_count": 12,
   "id": "51dc667a",
   "metadata": {
    "scrolled": false
   },
   "outputs": [
    {
     "name": "stdout",
     "output_type": "stream",
     "text": [
      "(11101, 17)\n"
     ]
    },
    {
     "data": {
      "text/html": [
       "<div>\n",
       "<style scoped>\n",
       "    .dataframe tbody tr th:only-of-type {\n",
       "        vertical-align: middle;\n",
       "    }\n",
       "\n",
       "    .dataframe tbody tr th {\n",
       "        vertical-align: top;\n",
       "    }\n",
       "\n",
       "    .dataframe thead th {\n",
       "        text-align: right;\n",
       "    }\n",
       "</style>\n",
       "<table border=\"1\" class=\"dataframe\">\n",
       "  <thead>\n",
       "    <tr style=\"text-align: right;\">\n",
       "      <th></th>\n",
       "      <th>country</th>\n",
       "      <th>year</th>\n",
       "      <th>gini_reported</th>\n",
       "      <th>region_un</th>\n",
       "      <th>region_un_sub</th>\n",
       "      <th>region_wb</th>\n",
       "      <th>eu</th>\n",
       "      <th>oecd</th>\n",
       "      <th>incomegroup</th>\n",
       "      <th>mean</th>\n",
       "      <th>median</th>\n",
       "      <th>mean_usd</th>\n",
       "      <th>median_usd</th>\n",
       "      <th>currency</th>\n",
       "      <th>exchangerate</th>\n",
       "      <th>gdp_ppp_pc_usd2011</th>\n",
       "      <th>population</th>\n",
       "    </tr>\n",
       "  </thead>\n",
       "  <tbody>\n",
       "    <tr>\n",
       "      <th>0</th>\n",
       "      <td>Afghanistan</td>\n",
       "      <td>2008</td>\n",
       "      <td>29.00</td>\n",
       "      <td>Asia</td>\n",
       "      <td>Southern Asia</td>\n",
       "      <td>South Asia</td>\n",
       "      <td>Non-EU</td>\n",
       "      <td>Non-OECD</td>\n",
       "      <td>Low income</td>\n",
       "      <td>36588.00</td>\n",
       "      <td>NaN</td>\n",
       "      <td>NaN</td>\n",
       "      <td>NaN</td>\n",
       "      <td>Afghan afghani</td>\n",
       "      <td>50.249615</td>\n",
       "      <td>1298.0</td>\n",
       "      <td>27294031.0</td>\n",
       "    </tr>\n",
       "    <tr>\n",
       "      <th>1</th>\n",
       "      <td>Albania</td>\n",
       "      <td>1996</td>\n",
       "      <td>27.01</td>\n",
       "      <td>Europe</td>\n",
       "      <td>Southern Europe</td>\n",
       "      <td>Europe and Central Asia</td>\n",
       "      <td>Non-EU</td>\n",
       "      <td>Non-OECD</td>\n",
       "      <td>Upper middle income</td>\n",
       "      <td>2255.40</td>\n",
       "      <td>1982.16</td>\n",
       "      <td>2255.0</td>\n",
       "      <td>1982.0</td>\n",
       "      <td>US$2011PPP</td>\n",
       "      <td>104.498917</td>\n",
       "      <td>4812.0</td>\n",
       "      <td>3092228.0</td>\n",
       "    </tr>\n",
       "    <tr>\n",
       "      <th>2</th>\n",
       "      <td>Albania</td>\n",
       "      <td>2002</td>\n",
       "      <td>31.74</td>\n",
       "      <td>Europe</td>\n",
       "      <td>Southern Europe</td>\n",
       "      <td>Europe and Central Asia</td>\n",
       "      <td>Non-EU</td>\n",
       "      <td>Non-OECD</td>\n",
       "      <td>Upper middle income</td>\n",
       "      <td>2305.20</td>\n",
       "      <td>1901.52</td>\n",
       "      <td>2305.0</td>\n",
       "      <td>1902.0</td>\n",
       "      <td>US$2011PPP</td>\n",
       "      <td>140.154516</td>\n",
       "      <td>6316.0</td>\n",
       "      <td>3119029.0</td>\n",
       "    </tr>\n",
       "    <tr>\n",
       "      <th>3</th>\n",
       "      <td>Albania</td>\n",
       "      <td>2005</td>\n",
       "      <td>30.60</td>\n",
       "      <td>Europe</td>\n",
       "      <td>Southern Europe</td>\n",
       "      <td>Europe and Central Asia</td>\n",
       "      <td>Non-EU</td>\n",
       "      <td>Non-OECD</td>\n",
       "      <td>Upper middle income</td>\n",
       "      <td>2605.92</td>\n",
       "      <td>2217.48</td>\n",
       "      <td>2606.0</td>\n",
       "      <td>2217.0</td>\n",
       "      <td>US$2011PPP</td>\n",
       "      <td>99.870254</td>\n",
       "      <td>7563.0</td>\n",
       "      <td>3079179.0</td>\n",
       "    </tr>\n",
       "    <tr>\n",
       "      <th>4</th>\n",
       "      <td>Albania</td>\n",
       "      <td>2008</td>\n",
       "      <td>29.98</td>\n",
       "      <td>Europe</td>\n",
       "      <td>Southern Europe</td>\n",
       "      <td>Europe and Central Asia</td>\n",
       "      <td>Non-EU</td>\n",
       "      <td>Non-OECD</td>\n",
       "      <td>Upper middle income</td>\n",
       "      <td>2850.24</td>\n",
       "      <td>2385.12</td>\n",
       "      <td>2850.0</td>\n",
       "      <td>2385.0</td>\n",
       "      <td>US$2011PPP</td>\n",
       "      <td>83.894604</td>\n",
       "      <td>9018.0</td>\n",
       "      <td>2991651.0</td>\n",
       "    </tr>\n",
       "  </tbody>\n",
       "</table>\n",
       "</div>"
      ],
      "text/plain": [
       "       country  year  gini_reported region_un    region_un_sub  \\\n",
       "0  Afghanistan  2008          29.00      Asia    Southern Asia   \n",
       "1      Albania  1996          27.01    Europe  Southern Europe   \n",
       "2      Albania  2002          31.74    Europe  Southern Europe   \n",
       "3      Albania  2005          30.60    Europe  Southern Europe   \n",
       "4      Albania  2008          29.98    Europe  Southern Europe   \n",
       "\n",
       "                 region_wb      eu      oecd          incomegroup      mean  \\\n",
       "0               South Asia  Non-EU  Non-OECD           Low income  36588.00   \n",
       "1  Europe and Central Asia  Non-EU  Non-OECD  Upper middle income   2255.40   \n",
       "2  Europe and Central Asia  Non-EU  Non-OECD  Upper middle income   2305.20   \n",
       "3  Europe and Central Asia  Non-EU  Non-OECD  Upper middle income   2605.92   \n",
       "4  Europe and Central Asia  Non-EU  Non-OECD  Upper middle income   2850.24   \n",
       "\n",
       "    median  mean_usd  median_usd        currency  exchangerate  \\\n",
       "0      NaN       NaN         NaN  Afghan afghani     50.249615   \n",
       "1  1982.16    2255.0      1982.0      US$2011PPP    104.498917   \n",
       "2  1901.52    2305.0      1902.0      US$2011PPP    140.154516   \n",
       "3  2217.48    2606.0      2217.0      US$2011PPP     99.870254   \n",
       "4  2385.12    2850.0      2385.0      US$2011PPP     83.894604   \n",
       "\n",
       "   gdp_ppp_pc_usd2011  population  \n",
       "0              1298.0  27294031.0  \n",
       "1              4812.0   3092228.0  \n",
       "2              6316.0   3119029.0  \n",
       "3              7563.0   3079179.0  \n",
       "4              9018.0   2991651.0  "
      ]
     },
     "execution_count": 12,
     "metadata": {},
     "output_type": "execute_result"
    }
   ],
   "source": [
    "# define columns of interest\n",
    "cols = ['country', 'year', 'gini_reported', 'region_un', 'region_un_sub', 'region_wb', 'eu', 'oecd', 'incomegroup',\n",
    "        'mean', 'median', 'mean_usd', 'median_usd', 'currency', 'exchangerate', 'gdp_ppp_pc_usd2011', 'population']\n",
    "\n",
    "# subset to columns of interest\n",
    "wiid_subset = wiid[cols]\n",
    "\n",
    "# print shape, head of subset\n",
    "print(wiid_subset.shape)\n",
    "wiid_subset.head()"
   ]
  },
  {
   "cell_type": "markdown",
   "id": "6303d515",
   "metadata": {},
   "source": [
    "## Visualizations"
   ]
  },
  {
   "cell_type": "markdown",
   "id": "4e808053",
   "metadata": {},
   "source": [
    "### 1. Distribution of GDP by region"
   ]
  },
  {
   "cell_type": "markdown",
   "id": "971db390",
   "metadata": {},
   "source": [
    "### 2. Distribution of income groups by region"
   ]
  },
  {
   "cell_type": "markdown",
   "id": "184590e0",
   "metadata": {},
   "source": [
    "### 3. Distribution of Gini index by region"
   ]
  },
  {
   "cell_type": "markdown",
   "id": "318fa9aa",
   "metadata": {},
   "source": [
    "### 4. Distribution of population by region"
   ]
  },
  {
   "cell_type": "markdown",
   "id": "29d316f5",
   "metadata": {},
   "source": [
    "### 5. Distribution of GDP and Gini index by EU and OECD affliation"
   ]
  }
 ],
 "metadata": {
  "kernelspec": {
   "display_name": "Python 3 (ipykernel)",
   "language": "python",
   "name": "python3"
  },
  "language_info": {
   "codemirror_mode": {
    "name": "ipython",
    "version": 3
   },
   "file_extension": ".py",
   "mimetype": "text/x-python",
   "name": "python",
   "nbconvert_exporter": "python",
   "pygments_lexer": "ipython3",
   "version": "3.9.7"
  }
 },
 "nbformat": 4,
 "nbformat_minor": 5
}
